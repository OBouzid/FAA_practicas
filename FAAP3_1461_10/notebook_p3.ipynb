{
 "cells": [
  {
   "cell_type": "markdown",
   "metadata": {},
   "source": [
    "# Apartado 1\n",
    "\n",
    "Hemos seguido el algoritmo como en teoria, manteniendo el numero de la poblacion fijo durante las distintas generaciones.\n",
    "\n",
    "### Cruce\n",
    "\n",
    "Hemos implementado el cruce uniforme, por tanto por cada alelo  generamos un rand(0,1) si es menor de la probabilidad proporcionada, 60% por defecto, intercambiamos el alelo entre los genes, sino los dejamos como estan.\n",
    "\n",
    "### Mutacion\n",
    "\n",
    "Para la mutacion la hemos implementado activando o desactivando el alelo, para ello generamos el rand(0,1), como en el caso anterior, si es menor a la probabilidad de mutacion,  0.1% por defecto, hacemos el cambio de estado.\n",
    "\n",
    "\n",
    "En ambos casos se controla que los nuevos genes sean solucion, en este caso es necesario que al menos un alelo este activo, sino lo esta se activa uno aleatoriamente.\n",
    "# Apartado 2\n"
   ]
  },
  {
   "cell_type": "code",
   "execution_count": 38,
   "metadata": {
    "collapsed": true
   },
   "outputs": [],
   "source": [
    "from sklearn.linear_model import LogisticRegression\n",
    "from sklearn.pipeline import Pipeline\n",
    "from sklearn.svm import LinearSVC\n",
    "import Clasificador\n",
    "from Datos import Datos\n",
    "from PreprocesamientoAG import PreprocesamientoAG\n",
    "from sklearn import preprocessing\n",
    "from sklearn.model_selection import train_test_split\n",
    "from sklearn.feature_selection import SelectKBest, chi2, SelectFromModel, f_regression, f_classif\n",
    "dataset = Datos('./ConjuntoDatos/wdbc.data')\n",
    "clasificador = Clasificador.ClasificadorRegresionLogistica(nEpoc=100,consApren=0.1)"
   ]
  },
  {
   "cell_type": "markdown",
   "metadata": {},
   "source": [
    "## A) Tamaño de población = 50 ; Generaciones = 50"
   ]
  },
  {
   "cell_type": "code",
   "execution_count": 39,
   "metadata": {},
   "outputs": [
    {
     "name": "stdout",
     "output_type": "stream",
     "text": [
      "\u001b[1mAtributos:\u001b[0m\n",
      "['Atributo1', 'Atributo13', 'Atributo21', 'Atributo30']\n",
      "\u001b[1mTasa de acierto:\u001b[0m\n",
      "0.952662721893\n"
     ]
    }
   ],
   "source": [
    "clasificador = Clasificador.ClasificadorRegresionLogistica(nEpoc=100,consApren=0.1)\n",
    "p = PreprocesamientoAG()\n",
    "c_50_50,f_50_50 =p.seleccionarAtributos(dataset,clasificador)\n",
    "\n",
    "print '\\033[1m'+\"Atributos:\"+ '\\033[0m'\n",
    "print dataset.atribNombre(c_50_50)\n",
    "print '\\033[1m'+\"Tasa de acierto:\"+ '\\033[0m'\n",
    "print f_50_50"
   ]
  },
  {
   "cell_type": "markdown",
   "metadata": {},
   "source": [
    "## B) Tamaño de población = 50 ; Generaciones = 75 "
   ]
  },
  {
   "cell_type": "code",
   "execution_count": 40,
   "metadata": {},
   "outputs": [
    {
     "name": "stdout",
     "output_type": "stream",
     "text": [
      "\u001b[1mAtributos:\u001b[0m\n",
      "['Atributo2', 'Atributo3', 'Atributo5', 'Atributo6', 'Atributo7', 'Atributo9', 'Atributo10', 'Atributo11', 'Atributo12', 'Atributo13', 'Atributo14', 'Atributo15', 'Atributo17', 'Atributo19', 'Atributo22', 'Atributo23', 'Atributo24', 'Atributo27', 'Atributo29']\n",
      "\u001b[1mTasa de acierto:\u001b[0m\n",
      "0.952662721893\n"
     ]
    }
   ],
   "source": [
    "clasificador = Clasificador.ClasificadorRegresionLogistica(nEpoc=100,consApren=0.1)\n",
    "p = PreprocesamientoAG( gener=(75,0.95))\n",
    "c_50_75,f_50_75 =p.seleccionarAtributos(dataset,clasificador)\n",
    "\n",
    "print '\\033[1m'+\"Atributos:\"+ '\\033[0m'\n",
    "print dataset.atribNombre(c_50_75)\n",
    "print '\\033[1m'+\"Tasa de acierto:\"+ '\\033[0m'\n",
    "print f_50_75"
   ]
  },
  {
   "cell_type": "markdown",
   "metadata": {},
   "source": [
    "## C) Tamaño de población = 75 ; Generaciones = 50"
   ]
  },
  {
   "cell_type": "code",
   "execution_count": 41,
   "metadata": {},
   "outputs": [
    {
     "name": "stdout",
     "output_type": "stream",
     "text": [
      "\u001b[1mAtributos:\u001b[0m\n",
      "['Atributo1', 'Atributo4', 'Atributo6', 'Atributo7', 'Atributo8', 'Atributo9', 'Atributo11', 'Atributo13', 'Atributo15', 'Atributo16', 'Atributo17', 'Atributo19', 'Atributo21', 'Atributo22', 'Atributo23', 'Atributo24', 'Atributo26', 'Atributo27', 'Atributo28', 'Atributo29', 'Atributo30']\n",
      "\u001b[1mTasa de acierto:\u001b[0m\n",
      "0.952662721893\n"
     ]
    }
   ],
   "source": [
    "clasificador = Clasificador.ClasificadorRegresionLogistica(nEpoc=100,consApren=0.1)\n",
    "p = PreprocesamientoAG(tamPob=75)\n",
    "c_75_50,f_75_50 =p.seleccionarAtributos(dataset,clasificador)\n",
    "\n",
    "print '\\033[1m'+\"Atributos:\"+ '\\033[0m'\n",
    "print dataset.atribNombre(c_75_50)\n",
    "print '\\033[1m'+\"Tasa de acierto:\"+ '\\033[0m'\n",
    "print f_75_50"
   ]
  },
  {
   "cell_type": "markdown",
   "metadata": {},
   "source": [
    "## D) Tamaño de población = 75 ; Generaciones = 75"
   ]
  },
  {
   "cell_type": "code",
   "execution_count": 43,
   "metadata": {},
   "outputs": [
    {
     "name": "stdout",
     "output_type": "stream",
     "text": [
      "\u001b[1mAtributos:\u001b[0m\n",
      "['Atributo2', 'Atributo3', 'Atributo6', 'Atributo7', 'Atributo8', 'Atributo9', 'Atributo10', 'Atributo11', 'Atributo12', 'Atributo14', 'Atributo15', 'Atributo16', 'Atributo18', 'Atributo21', 'Atributo22', 'Atributo23', 'Atributo24', 'Atributo28', 'Atributo29', 'Atributo30']\n",
      "\u001b[1mTasa de acierto:\u001b[0m\n",
      "0.970414201183\n"
     ]
    }
   ],
   "source": [
    "clasificador = Clasificador.ClasificadorRegresionLogistica(nEpoc=100,consApren=0.1)\n",
    "p = PreprocesamientoAG(tamPob=75,gener=(75,0.96))\n",
    "c_75_75,f_75_75 =p.seleccionarAtributos(dataset,clasificador)\n",
    "\n",
    "print '\\033[1m'+\"Atributos:\"+ '\\033[0m'\n",
    "print dataset.atribNombre(c_75_75)\n",
    "print '\\033[1m'+\"Tasa de acierto:\"+ '\\033[0m'\n",
    "print f_75_75"
   ]
  },
  {
   "cell_type": "markdown",
   "metadata": {},
   "source": [
    "\n",
    "# Apartado 3\n",
    "\n",
    "## SelectKBest"
   ]
  },
  {
   "cell_type": "code",
   "execution_count": 44,
   "metadata": {
    "collapsed": true
   },
   "outputs": [],
   "source": [
    "encAtributos = preprocessing.OneHotEncoder(categorical_features=dataset.nominalAtributos[:-1], sparse=False)\n",
    "X = encAtributos.fit_transform(dataset.datos[:, :-1])\n",
    "Y = dataset.datos[:, -1]\n",
    "x_train, x_test, y_train, y_test = train_test_split(X, Y, test_size=0.4)"
   ]
  },
  {
   "cell_type": "code",
   "execution_count": 47,
   "metadata": {},
   "outputs": [
    {
     "name": "stdout",
     "output_type": "stream",
     "text": [
      "\u001b[1mAtributos:\u001b[0m\n",
      "['Atributo1', 'Atributo3', 'Atributo4', 'Atributo7', 'Atributo8', 'Atributo21', 'Atributo23', 'Atributo24', 'Atributo27', 'Atributo28']\n",
      "\u001b[1mTasa de acierto:\u001b[0m\n",
      "0.938596491228\n"
     ]
    }
   ],
   "source": [
    "model_filter = SelectKBest(f_classif, k=10)\n",
    "lr = LogisticRegression(max_iter=100,class_weight=None)\n",
    "model_plK = Pipeline([('SelectKBest', model_filter), ('LogisticRegression', lr)])\n",
    "model_plK.fit(x_train, y_train)\n",
    "model_plK.predict(x_test)\n",
    "print '\\033[1m'+\"Atributos:\"+ '\\033[0m'\n",
    "print dataset.atribNombre([i for i, x in enumerate(model_plK.named_steps['SelectKBest'].get_support().tolist()) if x])\n",
    "print '\\033[1m'+\"Tasa de acierto:\"+ '\\033[0m'\n",
    "print model_plK.score(x_test, y_test)"
   ]
  },
  {
   "cell_type": "markdown",
   "metadata": {},
   "source": [
    "## SelectFromModel"
   ]
  },
  {
   "cell_type": "code",
   "execution_count": 46,
   "metadata": {},
   "outputs": [
    {
     "name": "stdout",
     "output_type": "stream",
     "text": [
      "\u001b[1mAtributos:\u001b[0m\n",
      "0.929824561404\n",
      "\u001b[1mTasa de acierto:\u001b[0m\n",
      "['Atributo1', 'Atributo6', 'Atributo7', 'Atributo12', 'Atributo21', 'Atributo26', 'Atributo27', 'Atributo28', 'Atributo29']\n"
     ]
    }
   ],
   "source": [
    "lr = LogisticRegression(max_iter=100,class_weight=None)\n",
    "lrS = LogisticRegression(max_iter=100, class_weight=None).fit(x_train, y_train)\n",
    "model_filter = SelectFromModel(lrS)\n",
    "\n",
    "model_pl = Pipeline([('SelectFromModel', model_filter), ('LogisticRegression', lr)])\n",
    "model_pl.fit(x_train, y_train)\n",
    "model_pl.predict(x_test)\n",
    "print '\\033[1m' +\"Atributos:\"+ '\\033[0m'\n",
    "print model_pl.score(x_test, y_test)\n",
    "print '\\033[1m' +\"Tasa de acierto:\"+ '\\033[0m'\n",
    "print dataset.atribNombre([i for i, x in enumerate(model_pl.named_steps['SelectFromModel'].get_support().tolist()) if x])"
   ]
  },
  {
   "cell_type": "markdown",
   "metadata": {},
   "source": [
    "# Apartado 4\n",
    "\n",
    "*Aviso: Los comentarios dependen de la actual ejecucion, si se ejecuta de nuevo pueden variar*\n",
    "\n",
    "\n",
    "### ¿Se seleccionan los mismos atributos con ambos métodos?  \n",
    "\n",
    "Las listas de atributos son distintas pero se repiten algunos valores, a continuacion vamos a mostrar los valores repetidos entre los geneticos, los de sklearn y entre todos"
   ]
  },
  {
   "cell_type": "code",
   "execution_count": 52,
   "metadata": {},
   "outputs": [
    {
     "name": "stdout",
     "output_type": "stream",
     "text": [
      "\u001b[1mAtributos en Geneticos:\u001b[0m\n",
      "['Atributo1', 'Atributo2', 'Atributo3', 'Atributo6', 'Atributo7', 'Atributo8', 'Atributo9', 'Atributo10', 'Atributo11', 'Atributo12', 'Atributo13', 'Atributo14', 'Atributo15', 'Atributo16', 'Atributo17', 'Atributo19', 'Atributo21', 'Atributo22', 'Atributo23', 'Atributo24', 'Atributo27', 'Atributo28', 'Atributo29', 'Atributo30']\n",
      "\u001b[1mAtributos en sklearn:\u001b[0m\n",
      "['Atributo1', 'Atributo7', 'Atributo21', 'Atributo27', 'Atributo28']\n",
      "\u001b[1mAtributos entre todos:\u001b[0m\n",
      "['Atributo1', 'Atributo7', 'Atributo21', 'Atributo27', 'Atributo28']\n"
     ]
    }
   ],
   "source": [
    "import collections\n",
    "aux = []\n",
    "aux.extend(c_50_50)\n",
    "aux.extend(c_50_75)\n",
    "aux.extend(c_75_50)\n",
    "aux.extend(c_75_75)\n",
    "geneticos = [v for v,c in collections.Counter(aux).items() if c>1]\n",
    "print '\\033[1m'+\"Atributos en Geneticos:\"+ '\\033[0m'\n",
    "print dataset.atribNombre(geneticos)\n",
    "aux = [i for i, x in enumerate(model_pl.named_steps['SelectFromModel'].get_support().tolist()) if x]\n",
    "aux.extend([i for i, x in enumerate(model_plK.named_steps['SelectKBest'].get_support().tolist()) if x])\n",
    "sk = [v for v,c in collections.Counter(aux).items() if c>1]\n",
    "print '\\033[1m'+\"Atributos en sklearn:\"+ '\\033[0m'\n",
    "print dataset.atribNombre(sk)\n",
    "aux=[]\n",
    "aux.extend(geneticos)\n",
    "aux.extend(sk)\n",
    "totales = [v for v,c in collections.Counter(aux).items() if c>1]\n",
    "print '\\033[1m'+\"Atributos entre todos:\"+ '\\033[0m'\n",
    "print dataset.atribNombre(totales)"
   ]
  },
  {
   "cell_type": "markdown",
   "metadata": {},
   "source": [
    "### ¿Se selecciona el mismo número de atributos con ambos métodos? \n",
    "\n",
    "Salvo en KBest que elegimos que sea fijo 10, los demas son variables. Por ejemplo en el caso de SelectFromModel nos ha devuelto 9 y en el primer genetico 4, puede darse el caso que se repitan pero sera cosa del azar. \n",
    "\n",
    "###  ¿Cuál  de  los  métodos  de selección de atributos ofrece mejores resultados? \n",
    "\n",
    "El caso con mejor tasa de acierto ha sido nuestro algoritmo genetico ya que la maxima ha sido un 97% y con sklearn nos da un 93-94 % pero si tenemos en cuenta el menor numero de columnas sera la primera ejecucion del algoritmo genetico que nos ha dado solo 4 columnas con un 95% de acierto.\n",
    "\n",
    "###  Ventajas\n",
    "\n",
    "La ventaja de algoritmos geneticos es una mayor tasa de acierto y que podemos controlar el minimo de acierto que queremos.\n",
    "\n",
    "La ventaja de sklearn es la mayor rapidez en la ejecucion."
   ]
  }
 ],
 "metadata": {
  "kernelspec": {
   "display_name": "Python 2",
   "language": "python",
   "name": "python2"
  },
  "language_info": {
   "codemirror_mode": {
    "name": "ipython",
    "version": 2
   },
   "file_extension": ".py",
   "mimetype": "text/x-python",
   "name": "python",
   "nbconvert_exporter": "python",
   "pygments_lexer": "ipython2",
   "version": "2.7.14"
  }
 },
 "nbformat": 4,
 "nbformat_minor": 2
}
