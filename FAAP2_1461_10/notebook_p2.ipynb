{
 "cells": [
  {
   "cell_type": "code",
   "execution_count": 1,
   "metadata": {},
   "outputs": [],
   "source": [
    "from sklearn.linear_model import LogisticRegression\n",
    "from sklearn.metrics import accuracy_score\n",
    "\n",
    "import Clasificador\n",
    "import EstrategiaParticionado\n",
    "from Datos import Datos\n",
    "from plotModel import plotModel\n",
    "import matplotlib.pyplot as plt\n",
    "from sklearn import preprocessing\n",
    "from sklearn.model_selection import train_test_split\n",
    "from sklearn.model_selection import cross_val_score\n",
    "from sklearn.metrics import accuracy_score\n",
    "from IPython.display import HTML, display\n"
   ]
  },
  {
   "cell_type": "markdown",
   "metadata": {
    "collapsed": true
   },
   "source": [
    "# Practica 2\n",
    "\n",
    "Vamos a realizar un analisis de los algoritmos de clasificacion implementados, para ello vamos a mostrar los porcentajes de error de nuestra implementacion contra la de Sklearn utlizando validacion cruzada. Tambien vamos a mostrar unas graficas donde se mostraran las zonas de clasificacion de cada clase. \n",
    "\n",
    "## Apartado 1\n",
    "\n",
    "### Vecinos Proximos"
   ]
  },
  {
   "cell_type": "code",
   "execution_count": null,
   "metadata": {
    "collapsed": true
   },
   "outputs": [],
   "source": []
  },
  {
   "cell_type": "markdown",
   "metadata": {},
   "source": [
    "## Apartado 2\n",
    "\n",
    "### Regresion Logistica\n",
    "\n",
    "##### Example1"
   ]
  },
  {
   "cell_type": "code",
   "execution_count": null,
   "metadata": {
    "collapsed": true
   },
   "outputs": [],
   "source": [
    "salida = \"<table><tr><th>C.Aprendizaje/Epocas</th><th>Nuestro</th><th>Sklearn</th></tr>\"\n",
    "dataset = Datos('./ConjuntoDatos/example1.data')\n",
    "encAtributos = preprocessing.OneHotEncoder(categorical_features=dataset.nominalAtributos[:-1], sparse=False)\n",
    "X = encAtributos.fit_transform(dataset.datos[:, :-1])\n",
    "Y = dataset.datos[:, -1]\n",
    "estrategia = EstrategiaParticionado.ValidacionCruzada()\n",
    "\n",
    "\n",
    "clasificador = Clasificador.ClasificadorRegresionLogistica(nEpoc=10,consApren=1)\n",
    "error_media, error_std = clasificador.validacion(estrategia, dataset, clasificador,45)\n",
    "\n",
    "score = cross_val_score(clf, X, Y, cv=10)\n",
    "error_media_sk_con_g = 1 - score.mean()\n",
    "error_std_sk_con_g = score.std()\n",
    "\n",
    "salida + = \"<tr>\"\n",
    "salida += \"<td>%.4f ± %.3f</td>\" % (error_media_sin_t,error_std_sin_t)\n",
    "salida += \"<td>%.4f ± %.3f</td></tr>\" % (error_media_sk_sin_t,error_std_sk_sin_t)\n"
   ]
  }
 ],
 "metadata": {
  "kernelspec": {
   "display_name": "Python 2",
   "language": "python",
   "name": "python2"
  },
  "language_info": {
   "codemirror_mode": {
    "name": "ipython",
    "version": 2
   },
   "file_extension": ".py",
   "mimetype": "text/x-python",
   "name": "python",
   "nbconvert_exporter": "python",
   "pygments_lexer": "ipython2",
   "version": "2.7.14"
  }
 },
 "nbformat": 4,
 "nbformat_minor": 2
}
